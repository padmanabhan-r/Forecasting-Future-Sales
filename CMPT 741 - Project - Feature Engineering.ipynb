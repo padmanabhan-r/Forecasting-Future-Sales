{
 "cells": [
  {
   "cell_type": "code",
   "execution_count": 1,
   "metadata": {},
   "outputs": [],
   "source": [
    "#Importing Necessary Packages\n",
    "\n",
    "import numpy as np\n",
    "import pandas as pd\n",
    "import sys\n",
    "import gc\n",
    "import pickle\n",
    "import datetime\n",
    "from itertools import product\n",
    "from sklearn.preprocessing import LabelEncoder\n",
    "import seaborn as sns\n",
    "import matplotlib.pyplot as plt\n",
    "%matplotlib inline"
   ]
  },
  {
   "cell_type": "code",
   "execution_count": 2,
   "metadata": {},
   "outputs": [],
   "source": [
    "sales_train_merged = pd.read_pickle('sales_train_merged.pkl')\n",
    "sales_train = pd.read_csv('data/sales_train_v2.csv')"
   ]
  },
  {
   "cell_type": "code",
   "execution_count": 3,
   "metadata": {},
   "outputs": [
    {
     "name": "stdout",
     "output_type": "stream",
     "text": [
      "<class 'pandas.core.frame.DataFrame'>\n",
      "Int64Index: 12074537 entries, 0 to 12074536\n",
      "Data columns (total 8 columns):\n",
      "date_block_num      int8\n",
      "shop_id             int8\n",
      "item_id             int16\n",
      "item_cnt_month      float16\n",
      "city_id             int8\n",
      "item_category_id    int8\n",
      "type_id             int8\n",
      "subtype_id          int8\n",
      "dtypes: float16(1), int16(1), int8(6)\n",
      "memory usage: 207.3 MB\n"
     ]
    }
   ],
   "source": [
    "sales_train_merged.info()"
   ]
  },
  {
   "cell_type": "code",
   "execution_count": 4,
   "metadata": {},
   "outputs": [],
   "source": [
    "# Function to create lag features\n",
    "def create_lags(df, lags, column):\n",
    "    temp_df = df[['date_block_num','shop_id','item_id',column]]\n",
    "    cnt = 1\n",
    "    for lag in lags:\n",
    "        pushed_df = temp_df.copy()\n",
    "        pushed_df.columns = ['date_block_num','shop_id','item_id', column+'_lag_'+str(cnt)]\n",
    "        pushed_df['date_block_num'] += lag\n",
    "        df = pd.merge(df, pushed_df, on=['date_block_num','shop_id','item_id'], how='left')\n",
    "        cnt+=1\n",
    "    return df"
   ]
  },
  {
   "cell_type": "code",
   "execution_count": 5,
   "metadata": {},
   "outputs": [],
   "source": [
    "#Creating Lags"
   ]
  },
  {
   "cell_type": "code",
   "execution_count": 6,
   "metadata": {},
   "outputs": [],
   "source": [
    "months_3 = [1,2]"
   ]
  },
  {
   "cell_type": "code",
   "execution_count": 7,
   "metadata": {},
   "outputs": [],
   "source": [
    "sales_train_merged = create_lags(sales_train_merged, months_3, 'item_cnt_month')"
   ]
  },
  {
   "cell_type": "code",
   "execution_count": 8,
   "metadata": {},
   "outputs": [
    {
     "data": {
      "text/html": [
       "<div>\n",
       "<style scoped>\n",
       "    .dataframe tbody tr th:only-of-type {\n",
       "        vertical-align: middle;\n",
       "    }\n",
       "\n",
       "    .dataframe tbody tr th {\n",
       "        vertical-align: top;\n",
       "    }\n",
       "\n",
       "    .dataframe thead th {\n",
       "        text-align: right;\n",
       "    }\n",
       "</style>\n",
       "<table border=\"1\" class=\"dataframe\">\n",
       "  <thead>\n",
       "    <tr style=\"text-align: right;\">\n",
       "      <th></th>\n",
       "      <th>date_block_num</th>\n",
       "      <th>shop_id</th>\n",
       "      <th>item_id</th>\n",
       "      <th>item_cnt_month</th>\n",
       "      <th>city_id</th>\n",
       "      <th>item_category_id</th>\n",
       "      <th>type_id</th>\n",
       "      <th>subtype_id</th>\n",
       "      <th>item_cnt_month_lag_1</th>\n",
       "      <th>item_cnt_month_lag_2</th>\n",
       "    </tr>\n",
       "  </thead>\n",
       "  <tbody>\n",
       "    <tr>\n",
       "      <th>0</th>\n",
       "      <td>0</td>\n",
       "      <td>2</td>\n",
       "      <td>19</td>\n",
       "      <td>0.0</td>\n",
       "      <td>0</td>\n",
       "      <td>40</td>\n",
       "      <td>11</td>\n",
       "      <td>4</td>\n",
       "      <td>NaN</td>\n",
       "      <td>NaN</td>\n",
       "    </tr>\n",
       "    <tr>\n",
       "      <th>1</th>\n",
       "      <td>0</td>\n",
       "      <td>2</td>\n",
       "      <td>27</td>\n",
       "      <td>1.0</td>\n",
       "      <td>0</td>\n",
       "      <td>19</td>\n",
       "      <td>5</td>\n",
       "      <td>10</td>\n",
       "      <td>NaN</td>\n",
       "      <td>NaN</td>\n",
       "    </tr>\n",
       "    <tr>\n",
       "      <th>2</th>\n",
       "      <td>0</td>\n",
       "      <td>2</td>\n",
       "      <td>28</td>\n",
       "      <td>0.0</td>\n",
       "      <td>0</td>\n",
       "      <td>30</td>\n",
       "      <td>8</td>\n",
       "      <td>55</td>\n",
       "      <td>NaN</td>\n",
       "      <td>NaN</td>\n",
       "    </tr>\n",
       "    <tr>\n",
       "      <th>3</th>\n",
       "      <td>0</td>\n",
       "      <td>2</td>\n",
       "      <td>29</td>\n",
       "      <td>0.0</td>\n",
       "      <td>0</td>\n",
       "      <td>23</td>\n",
       "      <td>5</td>\n",
       "      <td>16</td>\n",
       "      <td>NaN</td>\n",
       "      <td>NaN</td>\n",
       "    </tr>\n",
       "    <tr>\n",
       "      <th>4</th>\n",
       "      <td>0</td>\n",
       "      <td>2</td>\n",
       "      <td>32</td>\n",
       "      <td>0.0</td>\n",
       "      <td>0</td>\n",
       "      <td>40</td>\n",
       "      <td>11</td>\n",
       "      <td>4</td>\n",
       "      <td>NaN</td>\n",
       "      <td>NaN</td>\n",
       "    </tr>\n",
       "  </tbody>\n",
       "</table>\n",
       "</div>"
      ],
      "text/plain": [
       "   date_block_num  shop_id  item_id  item_cnt_month  city_id  \\\n",
       "0               0        2       19             0.0        0   \n",
       "1               0        2       27             1.0        0   \n",
       "2               0        2       28             0.0        0   \n",
       "3               0        2       29             0.0        0   \n",
       "4               0        2       32             0.0        0   \n",
       "\n",
       "   item_category_id  type_id  subtype_id  item_cnt_month_lag_1  \\\n",
       "0                40       11           4                   NaN   \n",
       "1                19        5          10                   NaN   \n",
       "2                30        8          55                   NaN   \n",
       "3                23        5          16                   NaN   \n",
       "4                40       11           4                   NaN   \n",
       "\n",
       "   item_cnt_month_lag_2  \n",
       "0                   NaN  \n",
       "1                   NaN  \n",
       "2                   NaN  \n",
       "3                   NaN  \n",
       "4                   NaN  "
      ]
     },
     "execution_count": 8,
     "metadata": {},
     "output_type": "execute_result"
    }
   ],
   "source": [
    "sales_train_merged.head()"
   ]
  },
  {
   "cell_type": "code",
   "execution_count": 9,
   "metadata": {},
   "outputs": [],
   "source": [
    "grouped_df = sales_train_merged.groupby(['date_block_num']).agg({'item_cnt_month': ['mean']})\n",
    "grouped_df.columns = [ 'date_item_cnt_month_mean' ]\n",
    "grouped_df.reset_index(inplace=True)\n",
    "sales_train_merged = pd.merge(sales_train_merged, grouped_df, on=['date_block_num'], how='left')\n",
    "sales_train_merged['date_item_cnt_month_mean'] = sales_train_merged['date_item_cnt_month_mean'].astype(np.float16)\n",
    "sales_train_merged = create_lags(sales_train_merged, [months_3[0]], 'date_item_cnt_month_mean')\n",
    "sales_train_merged.drop(['date_item_cnt_month_mean'], axis=1, inplace=True)"
   ]
  },
  {
   "cell_type": "code",
   "execution_count": null,
   "metadata": {},
   "outputs": [],
   "source": [
    "grouped_df = sales_train_merged.groupby(['date_block_num', 'item_id']).agg({'item_cnt_month': ['mean']})\n",
    "grouped_df.columns = [ 'date_item_item_cnt_month_mean' ]\n",
    "grouped_df.reset_index(inplace=True)\n",
    "sales_train_merged = pd.merge(sales_train_merged, grouped_df, on=['date_block_num','item_id'], how='left')\n",
    "sales_train_merged['date_item_item_cnt_month_mean'] = sales_train_merged['date_item_item_cnt_month_mean'].astype(np.float16)\n",
    "sales_train_merged = create_lags(sales_train_merged, months_3, 'date_item_item_cnt_month_mean')\n",
    "sales_train_merged.drop(['date_item_item_cnt_month_mean'], axis=1, inplace=True)"
   ]
  },
  {
   "cell_type": "code",
   "execution_count": 21,
   "metadata": {},
   "outputs": [],
   "source": [
    "grouped_df = sales_train_merged.groupby(['date_block_num', 'shop_id']).agg({'item_cnt_month': ['mean']})\n",
    "grouped_df.columns = [ 'date_shop_item_cnt_month_mean' ]\n",
    "grouped_df.reset_index(inplace=True)\n",
    "sales_train_merged = pd.merge(sales_train_merged, grouped_df, on=['date_block_num','shop_id'], how='left')\n",
    "sales_train_merged['date_shop_item_cnt_month_mean'] = sales_train_merged['date_shop_item_cnt_month_mean'].astype(np.float16)\n",
    "sales_train_merged = create_lags(sales_train_merged, month_3, 'date_shop_item_cnt_month_mean')\n",
    "sales_train_merged.drop(['date_shop_item_cnt_month_mean'], axis=1, inplace=True)"
   ]
  },
  {
   "cell_type": "code",
   "execution_count": null,
   "metadata": {},
   "outputs": [],
   "source": [
    "grouped_df = sales_train_merged.groupby(['date_block_num', 'item_category_id']).agg({'item_cnt_month': ['mean']})\n",
    "grouped_df.columns = [ 'date_item_cat_item_cnt_month_mean' ]\n",
    "grouped_df.reset_index(inplace=True)\n",
    "sales_train_merged = pd.merge(sales_train_merged, grouped_df, on=['date_block_num','item_category_id'], how='left')\n",
    "sales_train_merged['date_item_cat_item_cnt_month_mean'] = sales_train_merged['date_item_cat_item_cnt_month_mean'].astype(np.float16)\n",
    "sales_train_merged = create_lags(sales_train_merged, [months_3[0]], 'date_item_cat_item_cnt_month_mean')\n",
    "sales_train_merged.drop(['date_item_cat_item_cnt_month_mean'], axis=1, inplace=True)"
   ]
  },
  {
   "cell_type": "code",
   "execution_count": null,
   "metadata": {},
   "outputs": [],
   "source": [
    "grouped_df = sales_train_merged.groupby(['date_block_num', 'shop_id', 'item_category_id']).agg({'item_cnt_month': ['mean']})\n",
    "grouped_df.columns = ['date_shop_item_cat_item_cnt_mean']\n",
    "grouped_df.reset_index(inplace=True)\n",
    "sales_train_merged = pd.merge(sales_train_merged, grouped_df, on=['date_block_num', 'shop_id', 'item_category_id'], how='left')\n",
    "sales_train_merged['date_shop_item_cat_item_cnt_mean'] = sales_train_merged['date_shop_item_cat_item_cnt_mean'].astype(np.float16)\n",
    "sales_train_merged = create_lags(sales_train_merged, [months_3[0]], 'date_shop_item_cat_item_cnt_mean')\n",
    "sales_train_merged.drop(['date_shop_item_cat_item_cnt_mean'], axis=1, inplace=True)"
   ]
  },
  {
   "cell_type": "code",
   "execution_count": null,
   "metadata": {},
   "outputs": [],
   "source": [
    "grouped_df = sales_train_merged.groupby(['date_block_num', 'shop_id', 'type_code']).agg({'item_cnt_month': ['mean']})\n",
    "grouped_df.columns = ['date_shop_type_item_cnt_meam']\n",
    "grouped_df.reset_index(inplace=True)\n",
    "sales_train_merged = pd.merge(sales_train_merged, grouped_df, on=['date_block_num', 'shop_id', 'type_code'], how='left')\n",
    "sales_train_merged['date_shop_type_item_cnt_meam'] = sales_train_merged['date_shop_type_item_cnt_meam'].astype(np.float16)\n",
    "sales_train_merged = create_lags(sales_train_merged, [months_3[0]], 'date_shop_type_item_cnt_meam')\n",
    "sales_train_merged.drop(['date_shop_type_item_cnt_meam'], axis=1, inplace=True)"
   ]
  },
  {
   "cell_type": "code",
   "execution_count": null,
   "metadata": {},
   "outputs": [],
   "source": [
    "grouped_df = sales_train_merged.groupby(['date_block_num', 'shop_id', 'subtype_code']).agg({'item_cnt_month': ['mean']})\n",
    "grouped_df.columns = ['date_shop_subtype_item_cnt_mean']\n",
    "grouped_df.reset_index(inplace=True)\n",
    "sales_train_merged = pd.merge(sales_train_merged, grouped_df, on=['date_block_num', 'shop_id', 'subtype_code'], how='left')\n",
    "sales_train_merged['date_shop_subtype_item_cnt_mean'] = sales_train_merged['date_shop_subtype_item_cnt_mean'].astype(np.float16)\n",
    "sales_train_merged = create_lags(sales_train_merged, [months_3[0]], 'date_shop_subtype_item_cnt_mean')\n",
    "sales_train_merged.drop(['date_shop_subtype_item_cnt_mean'], axis=1, inplace=True)"
   ]
  },
  {
   "cell_type": "code",
   "execution_count": null,
   "metadata": {},
   "outputs": [],
   "source": [
    "grouped_df = sales_train_merged.groupby(['date_block_num', 'city_code']).agg({'item_cnt_month': ['mean']})\n",
    "grouped_df.columns = [ 'date_city_item_cnt_month_mean' ]\n",
    "grouped_df.reset_index(inplace=True)\n",
    "sales_train_merged = pd.merge(sales_train_merged, grouped_df, on=['date_block_num', 'city_code'], how='left')\n",
    "sales_train_merged['date_city_item_cnt_month_mean'] = sales_train_merged['date_city_item_cnt_month_mean'].astype(np.float16)\n",
    "sales_train_merged = create_lags(sales_train_merged, [months_3[0]], 'date_city_item_cnt_month_mean')\n",
    "sales_train_merged.drop(['date_city_item_cnt_month_mean'], axis=1, inplace=True)"
   ]
  },
  {
   "cell_type": "code",
   "execution_count": null,
   "metadata": {},
   "outputs": [],
   "source": [
    "grouped_df = sales_train_merged.groupby(['date_block_num', 'item_id', 'city_code']).agg({'item_cnt_month': ['mean']})\n",
    "grouped_df.columns = [ 'date_item_city_item_cnt_mean' ]\n",
    "grouped_df.reset_index(inplace=True)\n",
    "sales_train_merged = pd.merge(sales_train_merged, grouped_df, on=['date_block_num', 'item_id', 'city_code'], how='left')\n",
    "sales_train_merged['date_item_city_item_cnt_mean'] = sales_train_merged['date_item_city_item_cnt_mean'].astype(np.float16)\n",
    "sales_train_merged = create_lags(sales_train_merged, [1], 'date_item_city_item_cnt_mean')\n",
    "sales_train_merged.drop(['date_item_city_item_cnt_mean'], axis=1, inplace=True)"
   ]
  },
  {
   "cell_type": "code",
   "execution_count": null,
   "metadata": {},
   "outputs": [],
   "source": [
    "grouped_df = sales_train_merged.groupby(['date_block_num', 'type_code']).agg({'item_cnt_month': ['mean']})\n",
    "grouped_df.columns = [ 'date_type_item_cnt_month_mean' ]\n",
    "grouped_df.reset_index(inplace=True)\n",
    "sales_train_merged = pd.merge(sales_train_merged, grouped_df, on=['date_block_num', 'type_code'], how='left')\n",
    "sales_train_merged['date_type_item_cnt_month_mean'] = sales_train_merged['date_type_item_cnt_month_mean'].astype(np.float16)\n",
    "sales_train_merged = create_lags(sales_train_merged, [1], 'date_type_item_cnt_month_mean')\n",
    "sales_train_merged.drop(['date_type_item_cnt_month_mean'], axis=1, inplace=True)"
   ]
  },
  {
   "cell_type": "code",
   "execution_count": null,
   "metadata": {},
   "outputs": [],
   "source": [
    "grouped_df = sales_train_merged.groupby(['date_block_num', 'subtype_code']).agg({'item_cnt_month': ['mean']})\n",
    "grouped_df.columns = [ 'date_subtype_item_cnt_month_mean' ]\n",
    "grouped_df.reset_index(inplace=True)\n",
    "sales_train_merged = pd.merge(sales_train_merged, grouped_df, on=['date_block_num', 'subtype_code'], how='left')\n",
    "sales_train_merged['date_subtype_item_cnt_month_mean'] = sales_train_merged['date_subtype_item_cnt_month_mean'].astype(np.float16)\n",
    "sales_train_merged = create_lags(sales_train_merged, [1], 'date_subtype_item_cnt_month_mean')\n",
    "sales_train_merged.drop(['date_subtype_item_cnt_month_mean'], axis=1, inplace=True)"
   ]
  },
  {
   "cell_type": "code",
   "execution_count": null,
   "metadata": {},
   "outputs": [],
   "source": [
    "sales_train_merged.head()"
   ]
  },
  {
   "cell_type": "markdown",
   "metadata": {},
   "source": [
    "_______________________________"
   ]
  },
  {
   "cell_type": "code",
   "execution_count": null,
   "metadata": {},
   "outputs": [],
   "source": [
    "#More Feature Engineering"
   ]
  },
  {
   "cell_type": "code",
   "execution_count": null,
   "metadata": {},
   "outputs": [],
   "source": [
    "grouped_df = train.groupby(['item_id']).agg({'item_price': ['mean']})\n",
    "grouped_df.columns = ['item_item_price_mean']\n",
    "grouped_df.reset_index(inplace=True)\n",
    "sales_train_merged = pd.merge(sales_train_merged, grouped_df, on=['item_id'], how='left')\n",
    "sales_train_merged['item_item_price_mean'] = sales_train_merged['item_item_price_mean'].astype(np.float16)"
   ]
  },
  {
   "cell_type": "code",
   "execution_count": null,
   "metadata": {},
   "outputs": [],
   "source": [
    "grouped_df = train.groupby(['date_block_num','item_id']).agg({'item_price': ['mean']})\n",
    "grouped_df.columns = ['date_item_item_price_mean']\n",
    "grouped_df.reset_index(inplace=True)\n",
    "sales_train_merged = pd.merge(sales_train_merged, grouped_df, on=['date_block_num','item_id'], how='left')\n",
    "sales_train_merged['date_item_item_price_mean'] = sales_train_merged['date_item_item_price_mean'].astype(np.float16)"
   ]
  },
  {
   "cell_type": "code",
   "execution_count": null,
   "metadata": {},
   "outputs": [],
   "source": [
    "lags = months_3\n",
    "sales_train_merged = create_lags(sales_train_merged, lags, 'date_item_item_price_mean')"
   ]
  },
  {
   "cell_type": "code",
   "execution_count": null,
   "metadata": {},
   "outputs": [],
   "source": [
    "for i in lags:\n",
    "    sales_train_merged['price_change_lag_'+str(i)] = \\\n",
    "        (sales_train_merged['date_item_avg_item_price_lag_'+str(i)] - sales_train_merged['item_avg_item_price']) / sales_train_merged['item_avg_item_price']\n",
    "\n",
    "def pick_feature(row):\n",
    "    for i in lags:\n",
    "        if row['price_change_lag_'+str(i)]:\n",
    "            return row['price_change_lag_'+str(i)]\n",
    "    return 0"
   ]
  },
  {
   "cell_type": "code",
   "execution_count": null,
   "metadata": {},
   "outputs": [],
   "source": [
    "sales_train_merged['price_change_lag'] = sales_train_merged.apply(pick_feature, axis=1)\n",
    "sales_train_merged['price_change_lag'] = sales_train_merged['price_change_lag'].astype(np.float16)\n",
    "sales_train_merged['price_change_lag'].fillna(0, inplace=True)\n",
    "\n",
    "drop_list = ['item_avg_item_price', 'date_item_item_price_mean']\n",
    "for i in lags:\n",
    "    drop_list += ['date_item_avg_item_price_lag_'+str(i)]\n",
    "    drop_list += ['price_change_lag_'+str(i)]\n",
    "\n",
    "sales_train_merged.drop(drop_list, axis=1, inplace=True)"
   ]
  },
  {
   "cell_type": "code",
   "execution_count": null,
   "metadata": {},
   "outputs": [],
   "source": [
    "grouped_df = sales_train.groupby(['date_block_num','shop_id']).agg({'revenue': ['sum']})\n",
    "grouped_df.columns = ['date_shop_total_revenue']\n",
    "grouped_df.reset_index(inplace=True)\n",
    "sales_train_merged = pd.merge(sales_train_merged, grouped_df, on=['date_block_num','shop_id'], how='left')\n",
    "sales_train_merged['date_shop_total_revenue'] = sales_train_merged['date_shop_total_revenue'].astype(np.float32)"
   ]
  },
  {
   "cell_type": "code",
   "execution_count": null,
   "metadata": {},
   "outputs": [],
   "source": [
    "grouped_df = grouped_df.groupby(['shop_id']).agg({'date_shop_total_revenue': ['mean']})\n",
    "grouped_df.columns = ['shop_revenue_mean']\n",
    "grouped_df.reset_index(inplace=True)\n",
    "sales_train_merged = pd.merge(sales_train_merged, grouped_df, on=['shop_id'], how='left')\n",
    "sales_train_merged['shop_revenue_mean'] = sales_train_merged['shop_revenue_mean'].astype(np.float32)"
   ]
  },
  {
   "cell_type": "code",
   "execution_count": null,
   "metadata": {},
   "outputs": [],
   "source": [
    "sales_train_merged['revenue_change'] = (sales_train_merged['date_shop_total_revenue'] - sales_train_merged['shop_revenue_mean']) / sales_train_merged['shop_revenue_mean']\n",
    "sales_train_merged['revenue_change'] = sales_train_merged['revenue_change'].astype(np.float16)\n",
    "sales_train_merged = create_lags(sales_train_merged, [1], 'revenue_change')\n",
    "sales_train_merged.drop(['date_shop_total_revenue','shop_revenue_mean','revenue_change'], axis=1, inplace=True)"
   ]
  },
  {
   "cell_type": "code",
   "execution_count": null,
   "metadata": {},
   "outputs": [],
   "source": [
    "sales_train_merged['month'] = sales_train_merged['date_block_num'] % 12\n",
    "days = pd.Series([31,28,31,30,31,30,31,31,30,31,30,31])\n",
    "sales_train_merged['days'] = sales_train_merged['month'].map(days).astype(np.int8)"
   ]
  },
  {
   "cell_type": "code",
   "execution_count": null,
   "metadata": {},
   "outputs": [],
   "source": [
    "temp_dict = {}\n",
    "sales_train_merged['item_shop_prev_sale'] = -1\n",
    "sales_train_merged['item_shop_prev_sale'] = sales_train_merged['item_shop_prev_sale'].astype(np.int8)\n",
    "for row_id, row in sales_train_merged.iterrows():    \n",
    "    key = str(row.item_id)+' '+str(row.shop_id)\n",
    "    if key not in temp_dict:\n",
    "        if row.item_cnt_month!=0:\n",
    "            temp_dict[key] = row.date_block_num\n",
    "    else:\n",
    "        last_date_block_num = temp_dict[key]\n",
    "        sales_train_merged.at[row_id, 'item_shop_prev_sale'] = row.date_block_num - last_date_block_num\n",
    "        temp_dict[key] = row.date_block_num"
   ]
  },
  {
   "cell_type": "code",
   "execution_count": null,
   "metadata": {},
   "outputs": [],
   "source": [
    "temp_dict = {}\n",
    "sales_train_merged['prev_item_sale'] = -1\n",
    "sales_train_merged['prev_item_sale'] = sales_train_merged['prev_item_sale'].astype(np.int8)\n",
    "for row_id, row in sales_train_merged.iterrows():    \n",
    "    key = row.item_id\n",
    "    if key not in temp_dict:\n",
    "        if row.item_cnt_month!=0:\n",
    "            temp_dict[key] = row.date_block_num\n",
    "    else:\n",
    "        last_date_block_num = temp_dict[key]\n",
    "        if row.date_block_num>last_date_block_num:\n",
    "            sales_train_merged.at[row_id, 'prev_item_sale'] = row.date_block_num - last_date_block_num\n",
    "            temp_dict[key] = row.date_block_num"
   ]
  },
  {
   "cell_type": "code",
   "execution_count": null,
   "metadata": {},
   "outputs": [],
   "source": [
    "sales_train_merged['item_shop_first_sale'] = sales_train_merged['date_block_num'] - sales_train_merged.groupby(['item_id','shop_id'])['date_block_num'].transform('min')\n",
    "sales_train_merged['item_first_sale'] = sales_train_merged['date_block_num'] - sales_train_merged.groupby('item_id')['date_block_num'].transform('min')"
   ]
  },
  {
   "cell_type": "code",
   "execution_count": null,
   "metadata": {},
   "outputs": [],
   "source": [
    "sales_train_merged = sales_train_merged[sales_train_merged.date_block_num > 11]\n",
    "\n",
    "def fill_na(df):\n",
    "    for col in df.columns:\n",
    "        if ('_lag_' in col) & (df[col].isnull().any()):\n",
    "            if ('item_cnt' in col):\n",
    "                df[col].fillna(0, inplace=True)         \n",
    "    return df\n",
    "\n",
    "sales_train_merged = fill_na(sales_train_merged)"
   ]
  },
  {
   "cell_type": "code",
   "execution_count": null,
   "metadata": {},
   "outputs": [],
   "source": [
    "sales_train_merged.to_pickle('sales_train_final.pkl')"
   ]
  }
 ],
 "metadata": {
  "kernelspec": {
   "display_name": "Python 3",
   "language": "python",
   "name": "python3"
  },
  "language_info": {
   "codemirror_mode": {
    "name": "ipython",
    "version": 3
   },
   "file_extension": ".py",
   "mimetype": "text/x-python",
   "name": "python",
   "nbconvert_exporter": "python",
   "pygments_lexer": "ipython3",
   "version": "3.7.1"
  }
 },
 "nbformat": 4,
 "nbformat_minor": 2
}
